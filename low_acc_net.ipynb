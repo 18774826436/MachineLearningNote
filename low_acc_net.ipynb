{
 "cells": [
  {
   "cell_type": "code",
   "execution_count": 2,
   "metadata": {},
   "outputs": [],
   "source": [
    "import tensorflow as tf\n",
    "import numpy as np\n",
    "import matplotlib.pyplot as plt\n",
    "from tensorflow.examples.tutorials.mnist import input_data"
   ]
  },
  {
   "cell_type": "code",
   "execution_count": 16,
   "metadata": {},
   "outputs": [
    {
     "name": "stdout",
     "output_type": "stream",
     "text": [
      "Extracting MNIST_data\\train-images-idx3-ubyte.gz\n",
      "Extracting MNIST_data\\train-labels-idx1-ubyte.gz\n",
      "Extracting MNIST_data\\t10k-images-idx3-ubyte.gz\n",
      "Extracting MNIST_data\\t10k-labels-idx1-ubyte.gz\n",
      "epochA:003/020 cost: 2.357333081\n",
      "train accuracy : 0.250\n",
      "test accuracy : 0.179\n",
      "epochA:007/020 cost: 2.289591296\n",
      "train accuracy : 0.140\n",
      "test accuracy : 0.168\n",
      "epochA:011/020 cost: 2.278129268\n",
      "train accuracy : 0.180\n",
      "test accuracy : 0.171\n",
      "epochA:015/020 cost: 2.272468925\n",
      "train accuracy : 0.150\n",
      "test accuracy : 0.180\n",
      "epochA:019/020 cost: 2.266630092\n",
      "train accuracy : 0.190\n",
      "test accuracy : 0.195\n"
     ]
    }
   ],
   "source": [
    "mnist = input_data.read_data_sets('MNIST_data',one_hot=True)\n",
    "\n",
    "n_hidden_1 = 256\n",
    "n_hidden_2 = 128\n",
    "n_input = 784\n",
    "c_classes = 10\n",
    "\n",
    "x = tf.placeholder('float32',[None,n_input])\n",
    "y = tf.placeholder('float32',[None,c_classes])\n",
    "\n",
    "stddev = 0.1\n",
    "\n",
    "weights = {\n",
    "    'w1':tf.Variable(tf.random_normal([n_input,n_hidden_1],stddev=stddev)),\n",
    "    'w2':tf.Variable(tf.random_normal([n_hidden_1,n_hidden_2],stddev=stddev)),\n",
    "    'out':tf.Variable(tf.random_normal([n_hidden_2,c_classes],stddev=stddev))\n",
    "}\n",
    "\n",
    "biases =  {\n",
    "    'b1' : tf.Variable(tf.random_normal([n_hidden_1])),\n",
    "    'b2' : tf.Variable(tf.random_normal([n_hidden_2])),\n",
    "    'out' : tf.Variable(tf.random_normal([c_classes]))\n",
    "    \n",
    "}\n",
    "\n",
    "\n",
    "def multilayer_perceptron(_x,_weights,_baises):\n",
    "    layer1 = tf.nn.sigmoid(tf.add(tf.matmul(_x,_weights['w1']),_baises['b1']))\n",
    "    layer2 = tf.nn.sigmoid(tf.add(tf.matmul(layer1,_weights['w2']),_baises['b2']))\n",
    "    return (tf.matmul(layer2,_weights['out']) + _baises['out'])\n",
    "\n",
    "\n",
    "pred = multilayer_perceptron(x,weights,biases)\n",
    "\n",
    "cost = tf.reduce_mean(tf.nn.softmax_cross_entropy_with_logits(logits=pred,labels=y))\n",
    "\n",
    "optm = tf.train.GradientDescentOptimizer(learning_rate=0.001).minimize(cost)\n",
    "\n",
    "corr = tf.equal(tf.arg_max(pred,1),tf.arg_max(y,1))\n",
    "\n",
    "accr = tf.reduce_mean(tf.cast(corr,\"float\"))\n",
    "\n",
    "init = tf.global_variables_initializer()\n",
    "\n",
    "training_epochs = 20\n",
    "batch_size      = 100\n",
    "display_step    = 4\n",
    "\n",
    "sess = tf.Session()\n",
    "\n",
    "sess.run(init)\n",
    "\n",
    "for epoch in range(training_epochs):\n",
    "    avg_cost = 0\n",
    "    total_batch = int(batch_size)\n",
    "    \n",
    "    for i in range(total_batch):\n",
    "        batch_x,batch_y = mnist.train.next_batch(batch_size)\n",
    "        sess.run(optm,feed_dict={x:batch_x,y:batch_y})\n",
    "        avg_cost += sess.run(cost,feed_dict={x:batch_x,y:batch_y})\n",
    "        \n",
    "    avg_cost = avg_cost /total_batch\n",
    "    \n",
    "    if(epoch+1)%display_step == 0:\n",
    "        print(\"epochA:%03d/%03d cost: %.9f\" %(epoch,training_epochs,avg_cost))\n",
    "        feeds = {x:batch_x,y:batch_y}\n",
    "        train_acc = sess.run(accr,feed_dict = feeds)\n",
    "        print(\"train accuracy : %.3f\" % (train_acc))\n",
    "        feeds = {x: mnist.test.images, y: mnist.test.labels}\n",
    "        test_acc = sess.run(accr,feed_dict=feeds)\n",
    "        print(\"test accuracy : %.3f\" % (test_acc))"
   ]
  },
  {
   "cell_type": "code",
   "execution_count": null,
   "metadata": {},
   "outputs": [],
   "source": []
  }
 ],
 "metadata": {
  "kernelspec": {
   "display_name": "Python 3",
   "language": "python",
   "name": "python3"
  },
  "language_info": {
   "codemirror_mode": {
    "name": "ipython",
    "version": 3
   },
   "file_extension": ".py",
   "mimetype": "text/x-python",
   "name": "python",
   "nbconvert_exporter": "python",
   "pygments_lexer": "ipython3",
   "version": "3.6.5"
  }
 },
 "nbformat": 4,
 "nbformat_minor": 2
}
