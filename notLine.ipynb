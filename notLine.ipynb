{
 "cells": [
  {
   "cell_type": "code",
   "execution_count": 1,
   "metadata": {},
   "outputs": [
    {
     "name": "stderr",
     "output_type": "stream",
     "text": [
      "E:\\anaconda\\lib\\site-packages\\h5py\\__init__.py:36: FutureWarning: Conversion of the second argument of issubdtype from `float` to `np.floating` is deprecated. In future, it will be treated as `np.float64 == np.dtype(float).type`.\n",
      "  from ._conv import register_converters as _register_converters\n"
     ]
    }
   ],
   "source": [
    "import tensorflow as tf\n",
    "import numpy as np\n",
    "import matplotlib.pyplot as plt"
   ]
  },
  {
   "cell_type": "code",
   "execution_count": 1,
   "metadata": {},
   "outputs": [
    {
     "ename": "SyntaxError",
     "evalue": "invalid syntax (<ipython-input-1-eb263822ad4f>, line 13)",
     "output_type": "error",
     "traceback": [
      "\u001b[1;36m  File \u001b[1;32m\"<ipython-input-1-eb263822ad4f>\"\u001b[1;36m, line \u001b[1;32m13\u001b[0m\n\u001b[1;33m    biases = tf.Variable(tf.zeros([1, out_size]) + 0.1)\u001b[0m\n\u001b[1;37m         ^\u001b[0m\n\u001b[1;31mSyntaxError\u001b[0m\u001b[1;31m:\u001b[0m invalid syntax\n"
     ]
    }
   ],
   "source": [
    "#使用numpy生成两百个点\n",
    "#x_data = np.linspace(-0.5,0.5,200)[:,np.newaxis]\n",
    "x_data = np.linspace(-0.5,0.5,200)\n",
    "noise = np.random.normal(0,0.02,x_data.shape)\n",
    "y_data = np.square(x_data) + noise\n",
    "\n",
    "#定义placeholder\n",
    "x = tf.placeholder(tf.float32,[None,1])\n",
    "y = tf.placeholder(tf.float32,[None,1])\n",
    "\n",
    "#定义神经网络中间层\n",
    "Weights = tf.Variable(tf.random_normal([1,10])\n",
    "biases = tf.Variable(tf.zeros([1, out_size]) + 0.1)\n",
    "Wx_plus = tf.matmul(x,Weights) + biases\n",
    "L1 = tf.nn.tanh(Wx_plus)\n",
    "\n",
    "#定义输出层\n",
    "Weights2 = tf.Variable(tf.random_normal([10,1]))\n",
    "biases2 = tf.Variable(tf.zeros([1,1]))\n",
    "Wx_plus_L = tf.matmul(L1,Weights2) + biases2\n",
    "\n",
    "prediction = tf.nn.tanh(Wx_plus_L)\n",
    "\n",
    "#二次代价函数\n",
    "loss = tf.reduce_mean(tf.square(y - prediction))\n",
    "#梯度下降\n",
    "train_step = tf.train.GradientDescentOptimizer(0.1).minimize(loss)\n",
    "\n",
    "with tf.Session() as sess:\n",
    "    sess.run(tf.global_variables_initializer())\n",
    "    for _ in range(2000):\n",
    "        sess.run(train_step,feed_dict = {x:x_data,y:y_data})\n",
    "    #获取预测值\n",
    "    prediction_value = sess.run(prediction,feed_dict={x:x_data})\n",
    "    #画图\n",
    "    plt.figure()\n",
    "    plt.scatter(x_data,y_data)\n",
    "    plt.plot(x_data,prediction_value,'r-',wl=5)\n",
    "    #红色实线，线的宽度\n",
    "    plt.show()"
   ]
  },
  {
   "cell_type": "code",
   "execution_count": null,
   "metadata": {},
   "outputs": [],
   "source": []
  }
 ],
 "metadata": {
  "kernelspec": {
   "display_name": "Python 3",
   "language": "python",
   "name": "python3"
  }
 },
 "nbformat": 4,
 "nbformat_minor": 2
}
