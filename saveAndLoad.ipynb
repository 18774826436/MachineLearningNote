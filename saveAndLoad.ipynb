{
 "cells": [
  {
   "cell_type": "code",
   "execution_count": 1,
   "metadata": {},
   "outputs": [],
   "source": [
    "from sklearn import svm\n",
    "from sklearn import datasets\n"
   ]
  },
  {
   "cell_type": "code",
   "execution_count": 6,
   "metadata": {},
   "outputs": [
    {
     "name": "stdout",
     "output_type": "stream",
     "text": [
      "[0]\n"
     ]
    }
   ],
   "source": [
    "# clf = svm.SVC()\n",
    "iris = datasets.load_iris()\n",
    "x,y = iris.data,iris.target\n",
    "# clf.fit(x,y)\n",
    "\n",
    "# import pickle\n",
    "# with open('save/clf.pickle','wb') as f:\n",
    "#     pickle.dump(clf,f)\n",
    "#     print(\"import success\")\n",
    "    \n",
    "# with open('save/clf.pickle','rb') as f:\n",
    "#     clf2 = pickle.load(f)\n",
    "#     print(clf2.predict(x[0:1]))\n",
    "#     print(\"import success\")\n",
    "    \n",
    "    \n",
    "from sklearn.externals import joblib\n",
    "#save\n",
    "joblib.dump(clf,'save/clf.pkl')\n",
    "#restore\n",
    "clf3 = joblib.load('save/clf.pkl')\n",
    "print(clf3.predict(x[0:1]))\n",
    "      \n",
    "    "
   ]
  },
  {
   "cell_type": "code",
   "execution_count": null,
   "metadata": {},
   "outputs": [],
   "source": []
  }
 ],
 "metadata": {
  "kernelspec": {
   "display_name": "Python 3",
   "language": "python",
   "name": "python3"
  },
  "language_info": {
   "codemirror_mode": {
    "name": "ipython",
    "version": 3
   },
   "file_extension": ".py",
   "mimetype": "text/x-python",
   "name": "python",
   "nbconvert_exporter": "python",
   "pygments_lexer": "ipython3",
   "version": "3.6.5"
  }
 },
 "nbformat": 4,
 "nbformat_minor": 2
}
